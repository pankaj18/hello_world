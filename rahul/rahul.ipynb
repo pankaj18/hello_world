{
  "nbformat": 4,
  "nbformat_minor": 0,
  "metadata": {
    "colab": {
      "name": "rahul.ipynb",
      "provenance": [],
      "authorship_tag": "ABX9TyPPQPQLI9H9HW1Z1pjNJ0uN",
      "include_colab_link": true
    },
    "kernelspec": {
      "name": "python3",
      "display_name": "Python 3"
    },
    "language_info": {
      "name": "python"
    }
  },
  "cells": [
    {
      "cell_type": "markdown",
      "metadata": {
        "id": "view-in-github",
        "colab_type": "text"
      },
      "source": [
        "<a href=\"https://colab.research.google.com/github/pankaj18/hello_world/blob/master/rahul/rahul.ipynb\" target=\"_parent\"><img src=\"https://colab.research.google.com/assets/colab-badge.svg\" alt=\"Open In Colab\"/></a>"
      ]
    },
    {
      "cell_type": "code",
      "metadata": {
        "id": "WMVurmc4rGyc"
      },
      "source": [
        "import numpy as np\n",
        "import pandas as pd"
      ],
      "execution_count": 1,
      "outputs": []
    },
    {
      "cell_type": "code",
      "metadata": {
        "id": "tr73rzmqsWLW"
      },
      "source": [
        "data=pd.read_excel('pankaj.xlsx')"
      ],
      "execution_count": 24,
      "outputs": []
    },
    {
      "cell_type": "code",
      "metadata": {
        "colab": {
          "base_uri": "https://localhost:8080/",
          "height": 263
        },
        "id": "FIJlG_87sa1O",
        "outputId": "865b8a5a-a379-4216-8cb9-d643bc6c7036"
      },
      "source": [
        "data.head()"
      ],
      "execution_count": 25,
      "outputs": [
        {
          "output_type": "execute_result",
          "data": {
            "text/html": [
              "<div>\n",
              "<style scoped>\n",
              "    .dataframe tbody tr th:only-of-type {\n",
              "        vertical-align: middle;\n",
              "    }\n",
              "\n",
              "    .dataframe tbody tr th {\n",
              "        vertical-align: top;\n",
              "    }\n",
              "\n",
              "    .dataframe thead th {\n",
              "        text-align: right;\n",
              "    }\n",
              "</style>\n",
              "<table border=\"1\" class=\"dataframe\">\n",
              "  <thead>\n",
              "    <tr style=\"text-align: right;\">\n",
              "      <th></th>\n",
              "      <th>Unnamed: 0</th>\n",
              "      <th>Unnamed: 1</th>\n",
              "      <th>Unnamed: 2</th>\n",
              "      <th>Unnamed: 3</th>\n",
              "      <th>Unnamed: 4</th>\n",
              "      <th>Unnamed: 5</th>\n",
              "      <th>Unnamed: 6</th>\n",
              "      <th>Unnamed: 7</th>\n",
              "      <th>Unnamed: 8</th>\n",
              "      <th>Unnamed: 9</th>\n",
              "      <th>Unnamed: 10</th>\n",
              "      <th>Unnamed: 11</th>\n",
              "      <th>Unnamed: 12</th>\n",
              "      <th>Unnamed: 13</th>\n",
              "      <th>Unnamed: 14</th>\n",
              "      <th>Unnamed: 15</th>\n",
              "      <th>Unnamed: 16</th>\n",
              "      <th>Unnamed: 17</th>\n",
              "      <th>Unnamed: 18</th>\n",
              "      <th>Unnamed: 19</th>\n",
              "    </tr>\n",
              "  </thead>\n",
              "  <tbody>\n",
              "    <tr>\n",
              "      <th>0</th>\n",
              "      <td>NaN</td>\n",
              "      <td>NaN</td>\n",
              "      <td>NaN</td>\n",
              "      <td>number of rings</td>\n",
              "      <td>BLYP</td>\n",
              "      <td>B3LYP</td>\n",
              "      <td>B3LYP-D</td>\n",
              "      <td>PBE0</td>\n",
              "      <td>LC-BLYP</td>\n",
              "      <td>MN15</td>\n",
              "      <td>#MO6</td>\n",
              "      <td>#CAM-B3LYP</td>\n",
              "      <td>#-wB97XD</td>\n",
              "      <td>#LC-wPBE</td>\n",
              "      <td>#LC-BLYP</td>\n",
              "      <td>HF</td>\n",
              "      <td>MP2</td>\n",
              "      <td>CCSD</td>\n",
              "      <td>mean</td>\n",
              "      <td>std</td>\n",
              "    </tr>\n",
              "    <tr>\n",
              "      <th>1</th>\n",
              "      <td>NaN</td>\n",
              "      <td>NaN</td>\n",
              "      <td>NaN</td>\n",
              "      <td>1</td>\n",
              "      <td>4.36</td>\n",
              "      <td>5.99</td>\n",
              "      <td>5.98</td>\n",
              "      <td>8.35</td>\n",
              "      <td>10.64</td>\n",
              "      <td>7.72002</td>\n",
              "      <td>6.01</td>\n",
              "      <td>8.66</td>\n",
              "      <td>9.9</td>\n",
              "      <td>10.62</td>\n",
              "      <td>10.56</td>\n",
              "      <td>10.24</td>\n",
              "      <td>9.99</td>\n",
              "      <td>10.09</td>\n",
              "      <td>8.50786</td>\n",
              "      <td>2.065</td>\n",
              "    </tr>\n",
              "    <tr>\n",
              "      <th>2</th>\n",
              "      <td>NaN</td>\n",
              "      <td>NaN</td>\n",
              "      <td>NaN</td>\n",
              "      <td>2</td>\n",
              "      <td>3.96</td>\n",
              "      <td>5.49</td>\n",
              "      <td>5.48</td>\n",
              "      <td>7.72</td>\n",
              "      <td>9.89</td>\n",
              "      <td>7.1165</td>\n",
              "      <td>5.55</td>\n",
              "      <td>8.07</td>\n",
              "      <td>9.29</td>\n",
              "      <td>9.97</td>\n",
              "      <td>9.92</td>\n",
              "      <td>9.57</td>\n",
              "      <td>9.37</td>\n",
              "      <td>9.46</td>\n",
              "      <td>7.91832</td>\n",
              "      <td>1.98246</td>\n",
              "    </tr>\n",
              "    <tr>\n",
              "      <th>3</th>\n",
              "      <td>NaN</td>\n",
              "      <td>NaN</td>\n",
              "      <td>NaN</td>\n",
              "      <td>3</td>\n",
              "      <td>3.65</td>\n",
              "      <td>5.13</td>\n",
              "      <td>5.12</td>\n",
              "      <td>7.28</td>\n",
              "      <td>9.6</td>\n",
              "      <td>6.72686</td>\n",
              "      <td>5.27</td>\n",
              "      <td>7.65</td>\n",
              "      <td>8.9</td>\n",
              "      <td>9.66</td>\n",
              "      <td>9.57</td>\n",
              "      <td>9.2</td>\n",
              "      <td>9.02</td>\n",
              "      <td>9.11</td>\n",
              "      <td>7.56335</td>\n",
              "      <td>1.97849</td>\n",
              "    </tr>\n",
              "    <tr>\n",
              "      <th>4</th>\n",
              "      <td>NaN</td>\n",
              "      <td>NaN</td>\n",
              "      <td>NaN</td>\n",
              "      <td>4</td>\n",
              "      <td>3.44</td>\n",
              "      <td>4.87</td>\n",
              "      <td>4.86</td>\n",
              "      <td>6.98</td>\n",
              "      <td>9.36</td>\n",
              "      <td>6.45204</td>\n",
              "      <td>5.06</td>\n",
              "      <td>7.35</td>\n",
              "      <td>8.59</td>\n",
              "      <td>9.44</td>\n",
              "      <td>9.35</td>\n",
              "      <td>9.04</td>\n",
              "      <td>8.84</td>\n",
              "      <td>8.96</td>\n",
              "      <td>7.328</td>\n",
              "      <td>1.98985</td>\n",
              "    </tr>\n",
              "  </tbody>\n",
              "</table>\n",
              "</div>"
            ],
            "text/plain": [
              "   Unnamed: 0  Unnamed: 1  Unnamed: 2  ... Unnamed: 17 Unnamed: 18 Unnamed: 19\n",
              "0         NaN         NaN         NaN  ...        CCSD        mean         std\n",
              "1         NaN         NaN         NaN  ...       10.09     8.50786       2.065\n",
              "2         NaN         NaN         NaN  ...        9.46     7.91832     1.98246\n",
              "3         NaN         NaN         NaN  ...        9.11     7.56335     1.97849\n",
              "4         NaN         NaN         NaN  ...        8.96       7.328     1.98985\n",
              "\n",
              "[5 rows x 20 columns]"
            ]
          },
          "metadata": {
            "tags": []
          },
          "execution_count": 25
        }
      ]
    },
    {
      "cell_type": "code",
      "metadata": {
        "id": "xGG-Ut6lsclg"
      },
      "source": [
        "data=data.iloc[1:,4:18]"
      ],
      "execution_count": 26,
      "outputs": []
    },
    {
      "cell_type": "code",
      "metadata": {
        "colab": {
          "base_uri": "https://localhost:8080/"
        },
        "id": "46tYBF8dyIfs",
        "outputId": "416905f1-4fab-4cef-f77d-624eed5741ba"
      },
      "source": [
        "data['Unnamed: 17']"
      ],
      "execution_count": 27,
      "outputs": [
        {
          "output_type": "execute_result",
          "data": {
            "text/plain": [
              "1    10.09\n",
              "2     9.46\n",
              "3     9.11\n",
              "4     8.96\n",
              "Name: Unnamed: 17, dtype: object"
            ]
          },
          "metadata": {
            "tags": []
          },
          "execution_count": 27
        }
      ]
    },
    {
      "cell_type": "code",
      "metadata": {
        "colab": {
          "base_uri": "https://localhost:8080/"
        },
        "id": "227He4FOyaTj",
        "outputId": "802e4eae-5b1f-4975-a48c-a50b1e0cdbca"
      },
      "source": [
        "data.columns"
      ],
      "execution_count": 28,
      "outputs": [
        {
          "output_type": "execute_result",
          "data": {
            "text/plain": [
              "Index(['Unnamed: 4', 'Unnamed: 5', 'Unnamed: 6', 'Unnamed: 7', 'Unnamed: 8',\n",
              "       'Unnamed: 9', 'Unnamed: 10', 'Unnamed: 11', 'Unnamed: 12',\n",
              "       'Unnamed: 13', 'Unnamed: 14', 'Unnamed: 15', 'Unnamed: 16',\n",
              "       'Unnamed: 17'],\n",
              "      dtype='object')"
            ]
          },
          "metadata": {
            "tags": []
          },
          "execution_count": 28
        }
      ]
    },
    {
      "cell_type": "code",
      "metadata": {
        "id": "xAc09WyRxs8A"
      },
      "source": [
        " error_df=pd.DataFrame()\n",
        " for col in list(data.columns):\n",
        "   error_df[col+'_error_m']=data[col]-data['Unnamed: 17']"
      ],
      "execution_count": 29,
      "outputs": []
    },
    {
      "cell_type": "code",
      "metadata": {
        "colab": {
          "base_uri": "https://localhost:8080/",
          "height": 214
        },
        "id": "td6_LbXEzZ9-",
        "outputId": "15e3f4fb-4150-4c88-e1f9-8588bf1f9dcf"
      },
      "source": [
        "error_df"
      ],
      "execution_count": 30,
      "outputs": [
        {
          "output_type": "execute_result",
          "data": {
            "text/html": [
              "<div>\n",
              "<style scoped>\n",
              "    .dataframe tbody tr th:only-of-type {\n",
              "        vertical-align: middle;\n",
              "    }\n",
              "\n",
              "    .dataframe tbody tr th {\n",
              "        vertical-align: top;\n",
              "    }\n",
              "\n",
              "    .dataframe thead th {\n",
              "        text-align: right;\n",
              "    }\n",
              "</style>\n",
              "<table border=\"1\" class=\"dataframe\">\n",
              "  <thead>\n",
              "    <tr style=\"text-align: right;\">\n",
              "      <th></th>\n",
              "      <th>Unnamed: 4_error_m</th>\n",
              "      <th>Unnamed: 5_error_m</th>\n",
              "      <th>Unnamed: 6_error_m</th>\n",
              "      <th>Unnamed: 7_error_m</th>\n",
              "      <th>Unnamed: 8_error_m</th>\n",
              "      <th>Unnamed: 9_error_m</th>\n",
              "      <th>Unnamed: 10_error_m</th>\n",
              "      <th>Unnamed: 11_error_m</th>\n",
              "      <th>Unnamed: 12_error_m</th>\n",
              "      <th>Unnamed: 13_error_m</th>\n",
              "      <th>Unnamed: 14_error_m</th>\n",
              "      <th>Unnamed: 15_error_m</th>\n",
              "      <th>Unnamed: 16_error_m</th>\n",
              "      <th>Unnamed: 17_error_m</th>\n",
              "    </tr>\n",
              "  </thead>\n",
              "  <tbody>\n",
              "    <tr>\n",
              "      <th>1</th>\n",
              "      <td>-5.73</td>\n",
              "      <td>-4.1</td>\n",
              "      <td>-4.11</td>\n",
              "      <td>-1.74</td>\n",
              "      <td>0.55</td>\n",
              "      <td>-2.36998</td>\n",
              "      <td>-4.08</td>\n",
              "      <td>-1.43</td>\n",
              "      <td>-0.19</td>\n",
              "      <td>0.53</td>\n",
              "      <td>0.47</td>\n",
              "      <td>0.15</td>\n",
              "      <td>-0.1</td>\n",
              "      <td>0</td>\n",
              "    </tr>\n",
              "    <tr>\n",
              "      <th>2</th>\n",
              "      <td>-5.5</td>\n",
              "      <td>-3.97</td>\n",
              "      <td>-3.98</td>\n",
              "      <td>-1.74</td>\n",
              "      <td>0.43</td>\n",
              "      <td>-2.3435</td>\n",
              "      <td>-3.91</td>\n",
              "      <td>-1.39</td>\n",
              "      <td>-0.17</td>\n",
              "      <td>0.51</td>\n",
              "      <td>0.46</td>\n",
              "      <td>0.11</td>\n",
              "      <td>-0.09</td>\n",
              "      <td>0</td>\n",
              "    </tr>\n",
              "    <tr>\n",
              "      <th>3</th>\n",
              "      <td>-5.46</td>\n",
              "      <td>-3.98</td>\n",
              "      <td>-3.99</td>\n",
              "      <td>-1.83</td>\n",
              "      <td>0.49</td>\n",
              "      <td>-2.38314</td>\n",
              "      <td>-3.84</td>\n",
              "      <td>-1.46</td>\n",
              "      <td>-0.21</td>\n",
              "      <td>0.55</td>\n",
              "      <td>0.46</td>\n",
              "      <td>0.09</td>\n",
              "      <td>-0.09</td>\n",
              "      <td>0</td>\n",
              "    </tr>\n",
              "    <tr>\n",
              "      <th>4</th>\n",
              "      <td>-5.52</td>\n",
              "      <td>-4.09</td>\n",
              "      <td>-4.1</td>\n",
              "      <td>-1.98</td>\n",
              "      <td>0.4</td>\n",
              "      <td>-2.50796</td>\n",
              "      <td>-3.9</td>\n",
              "      <td>-1.61</td>\n",
              "      <td>-0.37</td>\n",
              "      <td>0.48</td>\n",
              "      <td>0.39</td>\n",
              "      <td>0.08</td>\n",
              "      <td>-0.12</td>\n",
              "      <td>0</td>\n",
              "    </tr>\n",
              "  </tbody>\n",
              "</table>\n",
              "</div>"
            ],
            "text/plain": [
              "  Unnamed: 4_error_m Unnamed: 5_error_m  ... Unnamed: 16_error_m Unnamed: 17_error_m\n",
              "1              -5.73               -4.1  ...                -0.1                   0\n",
              "2               -5.5              -3.97  ...               -0.09                   0\n",
              "3              -5.46              -3.98  ...               -0.09                   0\n",
              "4              -5.52              -4.09  ...               -0.12                   0\n",
              "\n",
              "[4 rows x 14 columns]"
            ]
          },
          "metadata": {
            "tags": []
          },
          "execution_count": 30
        }
      ]
    },
    {
      "cell_type": "code",
      "metadata": {
        "colab": {
          "base_uri": "https://localhost:8080/"
        },
        "id": "w_GzPhFf0V-s",
        "outputId": "53f5911f-033e-40e3-c4b9-07522aaa50d6"
      },
      "source": [
        "mae_df=error_df.abs().mean(axis=0)\n",
        "mae_df"
      ],
      "execution_count": 44,
      "outputs": [
        {
          "output_type": "execute_result",
          "data": {
            "text/plain": [
              "Unnamed: 4_error_m     5.552500\n",
              "Unnamed: 5_error_m     4.035000\n",
              "Unnamed: 6_error_m     4.045000\n",
              "Unnamed: 7_error_m     1.822500\n",
              "Unnamed: 8_error_m     0.467500\n",
              "Unnamed: 9_error_m     2.401145\n",
              "Unnamed: 10_error_m    3.932500\n",
              "Unnamed: 11_error_m    1.472500\n",
              "Unnamed: 12_error_m    0.235000\n",
              "Unnamed: 13_error_m    0.517500\n",
              "Unnamed: 14_error_m    0.445000\n",
              "Unnamed: 15_error_m    0.107500\n",
              "Unnamed: 16_error_m    0.100000\n",
              "Unnamed: 17_error_m    0.000000\n",
              "dtype: float64"
            ]
          },
          "metadata": {
            "tags": []
          },
          "execution_count": 44
        }
      ]
    },
    {
      "cell_type": "code",
      "metadata": {
        "colab": {
          "base_uri": "https://localhost:8080/"
        },
        "id": "i7sWtuyyy_wt",
        "outputId": "897490b6-f32e-4a26-9cc5-1f09e06ebb7e"
      },
      "source": [
        "mse_df=error_df.mean(axis=0)\n",
        "mse_df"
      ],
      "execution_count": 45,
      "outputs": [
        {
          "output_type": "execute_result",
          "data": {
            "text/plain": [
              "Unnamed: 4_error_m    -5.552500\n",
              "Unnamed: 5_error_m    -4.035000\n",
              "Unnamed: 6_error_m    -4.045000\n",
              "Unnamed: 7_error_m    -1.822500\n",
              "Unnamed: 8_error_m     0.467500\n",
              "Unnamed: 9_error_m    -2.401145\n",
              "Unnamed: 10_error_m   -3.932500\n",
              "Unnamed: 11_error_m   -1.472500\n",
              "Unnamed: 12_error_m   -0.235000\n",
              "Unnamed: 13_error_m    0.517500\n",
              "Unnamed: 14_error_m    0.445000\n",
              "Unnamed: 15_error_m    0.107500\n",
              "Unnamed: 16_error_m   -0.100000\n",
              "Unnamed: 17_error_m    0.000000\n",
              "dtype: float64"
            ]
          },
          "metadata": {
            "tags": []
          },
          "execution_count": 45
        }
      ]
    },
    {
      "cell_type": "code",
      "metadata": {
        "id": "WfqrCm_11DZg"
      },
      "source": [
        "max_mue=(error_df-error_df.max(axis=0)).abs().mean(axis=0)"
      ],
      "execution_count": 51,
      "outputs": []
    },
    {
      "cell_type": "code",
      "metadata": {
        "colab": {
          "base_uri": "https://localhost:8080/"
        },
        "id": "9gl7PkAI1Dfa",
        "outputId": "2a526582-70d2-4a58-fb2e-d191931cafab"
      },
      "source": [
        "max_mue"
      ],
      "execution_count": 52,
      "outputs": [
        {
          "output_type": "execute_result",
          "data": {
            "text/plain": [
              "Unnamed: 4_error_m     0.092500\n",
              "Unnamed: 5_error_m     0.065000\n",
              "Unnamed: 6_error_m     0.065000\n",
              "Unnamed: 7_error_m     0.082500\n",
              "Unnamed: 8_error_m     0.082500\n",
              "Unnamed: 9_error_m     0.057645\n",
              "Unnamed: 10_error_m    0.092500\n",
              "Unnamed: 11_error_m    0.082500\n",
              "Unnamed: 12_error_m    0.065000\n",
              "Unnamed: 13_error_m    0.032500\n",
              "Unnamed: 14_error_m    0.025000\n",
              "Unnamed: 15_error_m    0.042500\n",
              "Unnamed: 16_error_m    0.010000\n",
              "Unnamed: 17_error_m    0.000000\n",
              "dtype: float64"
            ]
          },
          "metadata": {
            "tags": []
          },
          "execution_count": 52
        }
      ]
    },
    {
      "cell_type": "code",
      "metadata": {
        "id": "Q7rLInmUyXKe",
        "colab": {
          "base_uri": "https://localhost:8080/"
        },
        "outputId": "7a63324c-98c4-4c70-d31e-0ac853bb1d7e"
      },
      "source": [
        "max_ue=error_df.max(axis=0).abs()\n",
        "max_ue"
      ],
      "execution_count": 53,
      "outputs": [
        {
          "output_type": "execute_result",
          "data": {
            "text/plain": [
              "Unnamed: 4_error_m     5.4600\n",
              "Unnamed: 5_error_m     3.9700\n",
              "Unnamed: 6_error_m     3.9800\n",
              "Unnamed: 7_error_m     1.7400\n",
              "Unnamed: 8_error_m     0.5500\n",
              "Unnamed: 9_error_m     2.3435\n",
              "Unnamed: 10_error_m    3.8400\n",
              "Unnamed: 11_error_m    1.3900\n",
              "Unnamed: 12_error_m    0.1700\n",
              "Unnamed: 13_error_m    0.5500\n",
              "Unnamed: 14_error_m    0.4700\n",
              "Unnamed: 15_error_m    0.1500\n",
              "Unnamed: 16_error_m    0.0900\n",
              "Unnamed: 17_error_m    0.0000\n",
              "dtype: float64"
            ]
          },
          "metadata": {
            "tags": []
          },
          "execution_count": 53
        }
      ]
    },
    {
      "cell_type": "code",
      "metadata": {
        "id": "mhZldnBT2LQ3"
      },
      "source": [
        ""
      ],
      "execution_count": null,
      "outputs": []
    }
  ]
}